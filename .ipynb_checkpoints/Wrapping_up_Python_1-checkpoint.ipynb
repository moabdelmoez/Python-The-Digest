{
 "cells": [
  {
   "cell_type": "code",
   "execution_count": 1,
   "metadata": {},
   "outputs": [],
   "source": [
    "name = 'John'\n",
    "age = 20\n",
    "is_new = True"
   ]
  },
  {
   "cell_type": "code",
   "execution_count": 2,
   "metadata": {},
   "outputs": [
    {
     "name": "stdout",
     "output_type": "stream",
     "text": [
      "We check in a patient name John . He is 20 years old and is a new pateint\n"
     ]
    }
   ],
   "source": [
    "print('We check in a patient name', name, '. He is', age, 'years old and is a new pateint')"
   ]
  },
  {
   "cell_type": "code",
   "execution_count": 3,
   "metadata": {},
   "outputs": [
    {
     "name": "stdout",
     "output_type": "stream",
     "text": [
      "What is your name? Mostafa\n",
      "Hi Mostafa\n"
     ]
    }
   ],
   "source": [
    "your_name = input('What is your name? ')\n",
    "print('Hi ' + your_name)"
   ]
  },
  {
   "cell_type": "code",
   "execution_count": 5,
   "metadata": {},
   "outputs": [
    {
     "name": "stdout",
     "output_type": "stream",
     "text": [
      "What is your weight? 160\n",
      "<class 'str'>\n",
      "<class 'float'>\n",
      "72.0\n"
     ]
    }
   ],
   "source": [
    "weight_lbs = input('What is your weight? ')\n",
    "print(type(weight_lbs))\n",
    "weight_kgm = float(weight_lbs) * 0.45\n",
    "print(type(weight_kgm))\n",
    "print(weight_kgm)"
   ]
  },
  {
   "cell_type": "code",
   "execution_count": 6,
   "metadata": {},
   "outputs": [
    {
     "name": "stdout",
     "output_type": "stream",
     "text": [
      "Python's Course for beginners\n"
     ]
    }
   ],
   "source": [
    "course = \"Python's Course for beginners\"\n",
    "print(course)"
   ]
  },
  {
   "cell_type": "code",
   "execution_count": 7,
   "metadata": {},
   "outputs": [
    {
     "name": "stdout",
     "output_type": "stream",
     "text": [
      "\n",
      "Hi Mostafa,\n",
      "\n",
      "It's me and I wan wondering if I can see you\n",
      "\n",
      "BR,\n",
      "Adele\n",
      "\n"
     ]
    }
   ],
   "source": [
    "course = \"\"\"\n",
    "Hi Mostafa,\n",
    "\n",
    "It's me and I wan wondering if I can see you\n",
    "\n",
    "BR,\n",
    "Adele\n",
    "\"\"\"\n",
    "print(course)"
   ]
  },
  {
   "cell_type": "code",
   "execution_count": 9,
   "metadata": {},
   "outputs": [
    {
     "name": "stdout",
     "output_type": "stream",
     "text": [
      "s\n",
      "r\n"
     ]
    }
   ],
   "source": [
    "course = \"Python for Beginners\"\n",
    "print(course[-1])\n",
    "print(course[-2])"
   ]
  },
  {
   "cell_type": "code",
   "execution_count": 20,
   "metadata": {},
   "outputs": [
    {
     "name": "stdout",
     "output_type": "stream",
     "text": [
      "ostaf\n"
     ]
    }
   ],
   "source": [
    "name = 'Mostafa'\n",
    "print(name[1:-1])"
   ]
  },
  {
   "cell_type": "code",
   "execution_count": 23,
   "metadata": {},
   "outputs": [
    {
     "name": "stdout",
     "output_type": "stream",
     "text": [
      "Mostafa [Osama] is a coder\n"
     ]
    }
   ],
   "source": [
    "first = 'Mostafa'\n",
    "last = 'Osama'\n",
    "#message = first + ' [' + last + '] is a coder'\n",
    "message = f'{first} [{last}] is a coder' #format or placeholder for the variables\n",
    "print(message)"
   ]
  },
  {
   "cell_type": "code",
   "execution_count": 24,
   "metadata": {},
   "outputs": [
    {
     "name": "stdout",
     "output_type": "stream",
     "text": [
      "20\n"
     ]
    }
   ],
   "source": [
    "print(len(course))"
   ]
  },
  {
   "cell_type": "code",
   "execution_count": 25,
   "metadata": {},
   "outputs": [
    {
     "name": "stdout",
     "output_type": "stream",
     "text": [
      "PYTHON FOR BEGINNERS\n"
     ]
    }
   ],
   "source": [
    "print(course.upper()) #method that used for string object"
   ]
  },
  {
   "cell_type": "code",
   "execution_count": 27,
   "metadata": {},
   "outputs": [
    {
     "name": "stdout",
     "output_type": "stream",
     "text": [
      "0\n"
     ]
    }
   ],
   "source": [
    "print(course.find('P')) #return the first occurrence for that character"
   ]
  },
  {
   "cell_type": "code",
   "execution_count": 30,
   "metadata": {},
   "outputs": [
    {
     "name": "stdout",
     "output_type": "stream",
     "text": [
      "Python for absolute beginners\n"
     ]
    }
   ],
   "source": [
    "print(course.replace('Beginners', 'absolute beginners'))"
   ]
  },
  {
   "cell_type": "code",
   "execution_count": 32,
   "metadata": {},
   "outputs": [
    {
     "data": {
      "text/plain": [
       "'Python for Beginners'"
      ]
     },
     "execution_count": 32,
     "metadata": {},
     "output_type": "execute_result"
    }
   ],
   "source": [
    "course"
   ]
  },
  {
   "cell_type": "code",
   "execution_count": 34,
   "metadata": {},
   "outputs": [
    {
     "name": "stdout",
     "output_type": "stream",
     "text": [
      "True\n"
     ]
    }
   ],
   "source": [
    "print('Python' in course) #check if Python exist in course"
   ]
  },
  {
   "cell_type": "code",
   "execution_count": null,
   "metadata": {},
   "outputs": [],
   "source": []
  }
 ],
 "metadata": {
  "kernelspec": {
   "display_name": "Python 3",
   "language": "python",
   "name": "python3"
  },
  "language_info": {
   "codemirror_mode": {
    "name": "ipython",
    "version": 3
   },
   "file_extension": ".py",
   "mimetype": "text/x-python",
   "name": "python",
   "nbconvert_exporter": "python",
   "pygments_lexer": "ipython3",
   "version": "3.6.8"
  }
 },
 "nbformat": 4,
 "nbformat_minor": 2
}
